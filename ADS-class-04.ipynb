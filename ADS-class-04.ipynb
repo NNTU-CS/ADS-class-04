{
 "cells": [
  {
   "cell_type": "markdown",
   "metadata": {},
   "source": [
    "# Практическое занятие 04. Очередь на кольцевом буфере. Очередь с приоритетами\n",
    "\n"
   ]
  },
  {
   "cell_type": "markdown",
   "metadata": {},
   "source": [
    "**Очередь** - абстрактная структура данных, работающая по принципу \"Last In - Last Out\"\n",
    "\n",
    "<img src=\"queue1.png\" alt=\"drawing\" width=\"450\"/>"
   ]
  },
  {
   "cell_type": "markdown",
   "metadata": {},
   "source": [
    "### Способы реализации очереди\n",
    "\n",
    "- На статическом массиве\n",
    "- На динамическом массиве\n",
    "- На связанном списке\n",
    "- ...\n"
   ]
  },
  {
   "cell_type": "markdown",
   "metadata": {},
   "source": [
    "Если брать статический массив, то наиболее удобным становится становится использование его в качестве **кольцевого буфера**"
   ]
  },
  {
   "cell_type": "markdown",
   "metadata": {},
   "source": [
    "<img src=\"queue2.png\" alt=\"drawing\" width=\"250\"/>"
   ]
  },
  {
   "cell_type": "markdown",
   "metadata": {},
   "source": [
    "Идея кольцевого буфера состоит в том, что при достижении правого конца массива элементы добавляются в свободное пространство в левой части массива. Тоже самое происходит при удалении элементов из левой части. Оба указателя двигаются слева направо, а при достижении правого конца массива переходят на левую сторону."
   ]
  },
  {
   "cell_type": "markdown",
   "metadata": {},
   "source": [
    "### Реализация очереди на кольцевом буфере"
   ]
  },
  {
   "cell_type": "code",
   "execution_count": 1,
   "metadata": {},
   "outputs": [],
   "source": [
    "#include <iostream>\n",
    "#include <string>"
   ]
  },
  {
   "cell_type": "code",
   "execution_count": 2,
   "metadata": {
    "scrolled": true
   },
   "outputs": [],
   "source": [
    "\n",
    "template<class T, int size>\n",
    "class TQueue\n",
    "{\n",
    "   private:\n",
    "     T arr[size];\n",
    "     int first;  // Указатель на первый элемент очереди\n",
    "     int last;   // Указатель на конец очереди\n",
    "   public:\n",
    "     TQueue():first(0), last(0) { }\n",
    "     void push(T x) {\n",
    "         if(last - first >= size)\n",
    "             throw std::string(\"Full!\");\n",
    "         else\n",
    "             arr[(last++) % size]=x;\n",
    "     }\n",
    "     T pop() {\n",
    "       return arr[(first++) % size];\n",
    "     }\n",
    "     int getSize() {\n",
    "       return (last-first);\n",
    "     }\n",
    "     T front() { \n",
    "         return arr[first%size]; \n",
    "     } \n",
    "     T back() { \n",
    "         return arr[(last-1)%size]; \n",
    "     }\n",
    "};    "
   ]
  },
  {
   "cell_type": "markdown",
   "metadata": {},
   "source": [
    "#### Пример использования TQueue"
   ]
  },
  {
   "cell_type": "code",
   "execution_count": 7,
   "metadata": {},
   "outputs": [
    {
     "name": "stdout",
     "output_type": "stream",
     "text": [
      "5\n",
      "11 55\n",
      "4\n",
      "22 55\n",
      "3\n",
      "33 55\n",
      "4\n",
      "33 66\n"
     ]
    }
   ],
   "source": [
    "TQueue <int, 5> q;\n",
    "q.push(11);\n",
    "q.push(22);\n",
    "q.push(33);\n",
    "q.push(44);\n",
    "q.push(55);\n",
    "std::cout << q.getSize() << std::endl;\n",
    "std::cout << q.front() << \" \" << q.back() << std::endl;\n",
    "q.pop();\n",
    "std::cout << q.getSize() << std::endl;\n",
    "std::cout << q.front() << \" \" << q.back() << std::endl;\n",
    "q.pop();\n",
    "std::cout << q.getSize() << std::endl;\n",
    "std::cout << q.front() << \" \" << q.back() << std::endl;\n",
    "q.push(66);\n",
    "std::cout << q.getSize() << std::endl;\n",
    "std::cout << q.front() << \" \" << q.back() << std::endl;"
   ]
  },
  {
   "cell_type": "markdown",
   "metadata": {},
   "source": [
    "#### Детали реализации\n",
    "\n",
    "- Данные хранятся в массиве **arr** в закрытой области класса (доступ напрямую в эту область запрещен).\n",
    "- Для доступа к данным, их добавления и удаления мы используем функции **front, back, push, pop**.\n",
    "- Операция **front** возвращает элемент, стоящий первый в очереди.\n",
    "- Операция **back** возвращает элемент, стоящий последний в очереди.\n",
    "- Операция **pop** извлекает первый элемент.\n",
    "- Операция **push** добавляет новый элемент в очередь."
   ]
  },
  {
   "cell_type": "markdown",
   "metadata": {},
   "source": [
    "### Очереди с приоритетом"
   ]
  },
  {
   "cell_type": "markdown",
   "metadata": {},
   "source": [
    "**Очереди с приоритетом** — разновидность очередей, в которой у каждого элемента есть свой приоритет. Обслуживаются они в соответствии со своими приоритетом. Если у элементов одинаковый приоритет, то обслуживаются они по их порядку в очереди."
   ]
  },
  {
   "cell_type": "markdown",
   "metadata": {},
   "source": [
    "#### Разница между очередью с приоритетом и обычной очередью\n",
    "\n",
    "Обычная очередь подчиняется принципу FIFO «первый вошел — первый вышел». В очередях с приоритетом элементы удаляются в соответствии с их приоритетом. То есть, элемент с самым высоким приоритетом удаляется из очереди в первую очередь."
   ]
  },
  {
   "cell_type": "code",
   "execution_count": null,
   "metadata": {},
   "outputs": [],
   "source": []
  }
 ],
 "metadata": {
  "kernelspec": {
   "display_name": "C++11 [conda env:xeus-cling]",
   "language": "C++11",
   "name": "conda-env-xeus-cling-xcpp11"
  },
  "language_info": {
   "codemirror_mode": "text/x-c++src",
   "file_extension": ".cpp",
   "mimetype": "text/x-c++src",
   "name": "c++",
   "version": "11"
  }
 },
 "nbformat": 4,
 "nbformat_minor": 4
}
